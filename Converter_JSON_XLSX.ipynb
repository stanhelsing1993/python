{
  "nbformat": 4,
  "nbformat_minor": 0,
  "metadata": {
    "colab": {
      "provenance": [],
      "authorship_tag": "ABX9TyPBkI8larCdT+gRQbG1HEmh",
      "include_colab_link": true
    },
    "kernelspec": {
      "name": "python3",
      "display_name": "Python 3"
    },
    "language_info": {
      "name": "python"
    }
  },
  "cells": [
    {
      "cell_type": "markdown",
      "metadata": {
        "id": "view-in-github",
        "colab_type": "text"
      },
      "source": [
        "<a href=\"https://colab.research.google.com/github/stanhelsing1993/python/blob/main/Converter_JSON_XLSX.ipynb\" target=\"_parent\"><img src=\"https://colab.research.google.com/assets/colab-badge.svg\" alt=\"Open In Colab\"/></a>"
      ]
    },
    {
      "cell_type": "code",
      "execution_count": 53,
      "metadata": {
        "colab": {
          "base_uri": "https://localhost:8080/"
        },
        "id": "L5R996wXc7t8",
        "outputId": "554c95de-5d66-498e-feff-c958efb59193"
      },
      "outputs": [
        {
          "output_type": "stream",
          "name": "stdout",
          "text": [
            "Concluído! As informações foram extraídas para o arquivo 'saida.csv'.\n",
            "Arquivo 'saida.xlsx' criado com sucesso!\n"
          ]
        }
      ],
      "source": [
        "import csv\n",
        "import json\n",
        "import pandas as pd\n",
        "\n",
        "def extract_json_payload(line):\n",
        "    start = line.find('{')\n",
        "    end = line.rfind('}')\n",
        "    if start != -1 and end != -1:\n",
        "        return line[start:end+1]\n",
        "    return None\n",
        "\n",
        "# Abrir o arquivo CSV de entrada\n",
        "with open('/content/dados api productOrderInformationRequiredEvent - Copia.csv', 'r') as arquivo_csv:\n",
        "    leitor = csv.DictReader(arquivo_csv, delimiter='\\t')\n",
        "\n",
        "    # Abrir o arquivo CSV de saída para escrita\n",
        "    with open('saida.csv', 'w', newline='') as saida_csv:\n",
        "        colunas = [\n",
        "            'Order ID',\n",
        "            'Correlation Order',\n",
        "            'Associated Document',\n",
        "            'Issue Code',\n",
        "            'Issue Description',\n",
        "            'Issue Observation',\n",
        "            'Issue action',\n",
        "            'Issue Type',\n",
        "            'Issue reason',\n",
        "            'Issue Update Date'\n",
        "        ]\n",
        "        escritor = csv.DictWriter(saida_csv, fieldnames=colunas)\n",
        "        escritor.writeheader()\n",
        "\n",
        "        # Ler cada linha do CSV de entrada\n",
        "        for linha in leitor:\n",
        "            # Extrair o JSON da coluna 'Payload'\n",
        "            payload_text = linha['Payload']\n",
        "            payload_json = extract_json_payload(payload_text)\n",
        "\n",
        "            if payload_json:\n",
        "                # Analisar o JSON\n",
        "                try:\n",
        "                    payload_dict = json.loads(payload_json)\n",
        "                    order_info = payload_dict['notification']['order']\n",
        "                    issue_info = order_info['issue']\n",
        "\n",
        "                    # Escrever informações no CSV de saída\n",
        "                    escritor.writerow({\n",
        "                        'Order ID': order_info['id'],\n",
        "                        'Correlation Order': order_info['correlationOrder'],\n",
        "                        'Associated Document': order_info['associatedDocument'],\n",
        "                        'Issue Code': issue_info['code'],\n",
        "                        'Issue Description': issue_info['description'],\n",
        "                        'Issue Observation': issue_info['observation'],\n",
        "                        'Issue action': issue_info['action'],\n",
        "                        'Issue Type': issue_info['type'],\n",
        "                        'Issue reason': issue_info.get('reason', ''),\n",
        "                        'Issue Update Date': issue_info['updateDate']\n",
        "                    })\n",
        "\n",
        "                except json.JSONDecodeError:\n",
        "                    print(\"Erro ao decodificar JSON na linha:\", payload_json)\n",
        "\n",
        "print(\"Concluído! As informações foram extraídas para o arquivo 'saida.csv'.\")\n",
        "\n",
        "df = pd.read_csv('saida.csv')\n",
        "\n",
        "# Salvar o DataFrame em um arquivo XLSX\n",
        "df.to_excel('saida.xlsx', index=False)\n",
        "\n",
        "print(\"Arquivo 'saida.xlsx' criado com sucesso!\")"
      ]
    },
    {
      "cell_type": "markdown",
      "source": [
        "**# Codigo para transformação de CSV com campo json para linhas no excel(substituindo campos nulos)**"
      ],
      "metadata": {
        "id": "qfFdZbkb1ysD"
      }
    },
    {
      "cell_type": "code",
      "source": [],
      "metadata": {
        "id": "C-yEtN3e2BFa"
      },
      "execution_count": null,
      "outputs": []
    },
    {
      "cell_type": "code",
      "source": [
        "import csv\n",
        "import json\n",
        "import pandas as pd\n",
        "\n",
        "def extract_json_payload(line):\n",
        "    start = line.find('{')\n",
        "    end = line.rfind('}')\n",
        "    if start != -1 and end != -1:\n",
        "        return line[start:end+1]\n",
        "    return None\n",
        "\n",
        "# Abrir o arquivo CSV de entrada\n",
        "with open('/content/dados api productOrderInformationRequiredEvent - Copia.csv', 'r') as arquivo_csv:\n",
        "    leitor = csv.DictReader(arquivo_csv, delimiter='\\t')\n",
        "\n",
        "    # Abrir o arquivo CSV de saída para escrita\n",
        "    with open('saida.csv', 'w', newline='') as saida_csv:\n",
        "        colunas = [\n",
        "            'Order ID',\n",
        "            'Correlation Order',\n",
        "            'Associated Document',\n",
        "            'Issue Code',\n",
        "            'Issue Description',\n",
        "            'Issue Observation',\n",
        "            'Issue action',\n",
        "            'Issue Type',\n",
        "            'Issue reason',\n",
        "            'Issue Update Date'\n",
        "        ]\n",
        "        escritor = csv.DictWriter(saida_csv, fieldnames=colunas)\n",
        "        escritor.writeheader()\n",
        "\n",
        "        # Ler cada linha do CSV de entrada\n",
        "        for linha in leitor:\n",
        "            # Extrair o JSON da coluna 'Payload'\n",
        "            payload_text = linha['Payload']\n",
        "            payload_json = extract_json_payload(payload_text)\n",
        "\n",
        "            if payload_json:\n",
        "                # Analisar o JSON\n",
        "                try:\n",
        "                    payload_dict = json.loads(payload_json)\n",
        "                    order_info = payload_dict['notification']['order']\n",
        "                    issue_info = order_info['issue']\n",
        "\n",
        "                    # Escrever informações no CSV de saída\n",
        "                    escritor.writerow({\n",
        "                         'Order ID': order_info['id'],\n",
        "                          'Correlation Order': order_info['correlationOrder'],\n",
        "                          'Associated Document': order_info['associatedDocument'],\n",
        "                          'Issue Code': issue_info['code'],\n",
        "                          'Issue Description': issue_info['description'],\n",
        "                          'Issue Observation': issue_info.get('observation', ''),\n",
        "                          'Issue action': issue_info.get('action', ''),\n",
        "                          'Issue Type': issue_info.get('type', ''),\n",
        "                          'Issue reason': issue_info.get('reason', ''),\n",
        "                          'Issue Update Date': issue_info.get('updateDate', '')\n",
        "                    })\n",
        "\n",
        "                except json.JSONDecodeError:\n",
        "                    print(\"Erro ao decodificar JSON na linha:\", payload_json)\n",
        "\n",
        "print(\"Concluído! As informações foram extraídas para o arquivo 'saida.csv'.\")\n",
        "\n",
        "df = pd.read_csv('saida.csv')\n",
        "\n",
        "# Salvar o DataFrame em um arquivo XLSX\n",
        "df.to_excel('saida.xlsx', index=False)\n",
        "\n",
        "print(\"Arquivo 'saida.xlsx' criado com sucesso!\")"
      ],
      "metadata": {
        "colab": {
          "base_uri": "https://localhost:8080/"
        },
        "id": "9F3pTNrj1BxQ",
        "outputId": "94966a8b-f301-4c23-aab6-edc095d5d10f"
      },
      "execution_count": 52,
      "outputs": [
        {
          "output_type": "stream",
          "name": "stdout",
          "text": [
            "Concluído! As informações foram extraídas para o arquivo 'saida.csv'.\n",
            "Arquivo 'saida.xlsx' criado com sucesso!\n"
          ]
        }
      ]
    }
  ]
}